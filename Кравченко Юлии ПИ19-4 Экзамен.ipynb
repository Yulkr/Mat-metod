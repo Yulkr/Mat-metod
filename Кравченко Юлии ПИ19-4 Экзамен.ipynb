{
 "cells": [
  {
   "cell_type": "markdown",
   "metadata": {},
   "source": [
    "Кравченко Юлии ПИ19-4 \n",
    "\n",
    "Вариант 80"
   ]
  },
  {
   "cell_type": "code",
   "execution_count": 1,
   "metadata": {},
   "outputs": [],
   "source": [
    "import scipy\n",
    "from scipy.optimize import linprog \n",
    "import numpy as np\n",
    "import pandas as pd"
   ]
  },
  {
   "cell_type": "markdown",
   "metadata": {},
   "source": [
    "Задание 1"
   ]
  },
  {
   "cell_type": "code",
   "execution_count": 10,
   "metadata": {},
   "outputs": [],
   "source": [
    "a = np.array([70, 50, 240]) # Запасы по складам\n",
    "b = np.array([100, 10, 70, 160]) #Потребности\n",
    "# Матрица тарифов\n",
    "C = np.array([[16, 18, 9, 1],\n",
    "              [13, 16, 18, 9],\n",
    "              [14, 23, 12, 7]])"
   ]
  },
  {
   "cell_type": "code",
   "execution_count": 14,
   "metadata": {},
   "outputs": [],
   "source": [
    "def Transport_severo_zapad(a, b, c):\n",
    "    \n",
    "    # Проверяем условие замкнутости:\n",
    "    if a.sum() > b.sum():\n",
    "        b = np.hstack((b, [a.sum() - b.sum()]))\n",
    "        c = np.hstack((c, np.zeros(len(a)).reshape(-1, 1)))\n",
    "    elif a.sum() < b.sum():\n",
    "        a = np.hstack((a, [b.sum() - a.sum()]))\n",
    "        c = np.vstack((c, np.zeros(len(b))))\n",
    "        \n",
    "    m = len(a)\n",
    "    n = len(b)\n",
    "    i = 0\n",
    "    j = 0\n",
    "    funk = 0\n",
    "    x = np.zeros((m, n), dtype=int)\n",
    "    while (i<m) and (j<n): # повторяем цикл до сходимости метода\n",
    "        x_ij = min(a[i], b[j]) # проверяем минимальность a_i и b_j\n",
    "        funk += c[i, j]*min(a[i], b[j]) \n",
    "        a[i] -= x_ij \n",
    "        b[j] -= x_ij \n",
    "        x[i, j] = x_ij \n",
    "    \n",
    "        if a[i]>b[j]: # делаем сдвиги при выполнении условий\n",
    "            j += 1\n",
    "        elif a[i]<b[j]:\n",
    "            i += 1\n",
    "        else:\n",
    "            i += 1\n",
    "            j += 1\n",
    "    return x, funk "
   ]
  },
  {
   "cell_type": "code",
   "execution_count": 15,
   "metadata": {},
   "outputs": [
    {
     "name": "stdout",
     "output_type": "stream",
     "text": [
      "Метод северо-западного угла: \n",
      " [[ 70   0   0   0   0]\n",
      " [ 30  10  10   0   0]\n",
      " [  0   0  60 160  20]]\n",
      "Оптимальная стоимость перевозки:  3690.0\n"
     ]
    }
   ],
   "source": [
    "x1, funk1 = Transport_severo_zapad(a, b, C)\n",
    "print('Метод северо-западного угла: \\n', x1)\n",
    "print('Оптимальная стоимость перевозки: ', funk1)"
   ]
  },
  {
   "cell_type": "markdown",
   "metadata": {},
   "source": [
    "Задание 3"
   ]
  },
  {
   "cell_type": "code",
   "execution_count": 5,
   "metadata": {},
   "outputs": [
    {
     "name": "stdout",
     "output_type": "stream",
     "text": [
      "     con: array([], dtype=float64)\n",
      "     fun: -0.11818181818181817\n",
      " message: 'Optimization terminated successfully.'\n",
      "     nit: 3\n",
      "   slack: array([1.11022302e-16, 0.00000000e+00, 1.72727273e-01])\n",
      "  status: 0\n",
      " success: True\n",
      "       x: array([0.04545455, 0.07272727])\n",
      "Цена игры: 8.461538461538463\n",
      "X* = (0.38461538461538464, 0.6153846153846154) -оптимальная стратегия  I игрока \n"
     ]
    }
   ],
   "source": [
    "c = [-1,-1] # список коэффициентов функции цели\n",
    "b_ub = [1,1,1] \n",
    "A_ub = [[14,5],\n",
    "        [6,10],\n",
    "        [15,2]]\n",
    "d=linprog(c, A_ub, b_ub,method='simplex' ) \n",
    "print(d)\n",
    "print(\"Цена игры:\",1/d.x.sum())\n",
    "y1 = d.x[0]/d.x.sum()\n",
    "y2 = d.x[1]/d.x.sum()\n",
    "#y3 = d.x[2]/d.x.sum()\n",
    "print(\"X* =\",(y1,y2),\"-оптимальная стратегия  I игрока \")"
   ]
  },
  {
   "cell_type": "markdown",
   "metadata": {},
   "source": [
    "Задание №2"
   ]
  },
  {
   "cell_type": "code",
   "execution_count": 20,
   "metadata": {},
   "outputs": [
    {
     "name": "stdout",
     "output_type": "stream",
     "text": [
      "       0\n",
      "A1   6.0\n",
      "A2   7.0\n",
      "A3  13.0\n",
      "A4   2.0\n",
      "4   12.0\n",
      "4) Оптимальная стратегия игрока А по критерию Сэвиджа и Величина минимальной недополученной прибыли по критерию Сэвиджа:       0\n",
      "A4  2.0\n"
     ]
    }
   ],
   "source": [
    "A = [[3,5,6,2],\n",
    "[3,-1,8,4],\n",
    "[-4,3,7,-2],\n",
    "[9,5,6,5],\n",
    "[-3,6,8,4]]\n",
    "\n",
    "##Критерий Сэвиджа\n",
    "ss = np.array(A)\n",
    "    #print(ss)\n",
    "\n",
    "m = 5\n",
    "n = 4\n",
    "ss1 = np.zeros((m,n))\n",
    "for i in range(m):\n",
    "    for j in range(n):\n",
    "        ss1[i,j] = int(ss[i,j])\n",
    "            #ss1 = map(int, ss)\n",
    "        #print(ss1)\n",
    "        c_min21 = (ss1[:,0].max()-ss1[:,0])\n",
    "        c_min22 = (ss1[:,1].max()-ss1[:,1])\n",
    "        c_min23 = (ss1[:,2].max()-ss1[:,2])\n",
    "        c_min24 = (ss1[:,3].max()-ss1[:,3])\n",
    "\n",
    "sevid = pd.DataFrame((c_min21,c_min22,c_min23,c_min24))\n",
    "sevid_transposed = sevid.T    \n",
    "    #print(sevid_transposed)\n",
    "qwe = sevid_transposed.max(axis=1)\n",
    "SEVID_df4 = pd.DataFrame(qwe)\n",
    "SEVID_df4a = SEVID_df4.rename(index={0: \"A1\", 1: \"A2\", 2: \"A3\",3:\"A4\"})\n",
    "print(SEVID_df4a)\n",
    "sev_str = SEVID_df4a[SEVID_df4a[0]==SEVID_df4a[0].min()]\n",
    "print(\"4) Оптимальная стратегия игрока А по критерию Сэвиджа и Величина минимальной недополученной прибыли по критерию Сэвиджа:\", sev_str)\n",
    "\n"
   ]
  },
  {
   "cell_type": "code",
   "execution_count": null,
   "metadata": {},
   "outputs": [],
   "source": []
  }
 ],
 "metadata": {
  "interpreter": {
   "hash": "0463aa3621d62e00411223dcee194a447c8b08a2c8db7fec00e158f339f13f20"
  },
  "kernelspec": {
   "display_name": "Python 3.8.1 64-bit",
   "language": "python",
   "name": "python3"
  },
  "language_info": {
   "codemirror_mode": {
    "name": "ipython",
    "version": 3
   },
   "file_extension": ".py",
   "mimetype": "text/x-python",
   "name": "python",
   "nbconvert_exporter": "python",
   "pygments_lexer": "ipython3",
   "version": "3.8.1"
  },
  "orig_nbformat": 4
 },
 "nbformat": 4,
 "nbformat_minor": 2
}
