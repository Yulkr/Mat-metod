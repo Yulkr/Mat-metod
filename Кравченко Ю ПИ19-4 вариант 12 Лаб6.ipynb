{
 "cells": [
  {
   "cell_type": "markdown",
   "metadata": {},
   "source": [
    "Кравченко Юлии ПИ19-4\n",
    "Вариант 12 \n",
    "\n",
    "Задание 6. Задача об оптимальном использовании ресурсов\n",
    "\n",
    "Для производства трех видов изделий (A, B, C) используются ресурсы типа I и II,\n",
    "причем закупки ресурсов ограничены возможностями поставщиков. Нормы расхода ресурсов и их запасы приведены в таблице.\n"
   ]
  },
  {
   "cell_type": "markdown",
   "metadata": {},
   "source": [
    "Условие для подстановки:\n",
    "\n",
    "x1+3*x2+4*x3<=3000\n",
    "\n",
    "6*x1+5*x2+2*x3<=3320\n",
    "\n",
    "x1,x2,x3>=0\n",
    "\n",
    "Целевая функция:\n",
    "\n",
    "(6*b+12)*x1+(5*b+22)*x2+c*x3"
   ]
  },
  {
   "cell_type": "code",
   "execution_count": 7,
   "metadata": {},
   "outputs": [
    {
     "name": "stdout",
     "output_type": "stream",
     "text": [
      "Функция для максимизации: 24*x1 + 32*x2 + 19*x3\n"
     ]
    }
   ],
   "source": [
    "#Модель задачи\n",
    "import pandas as pd\n",
    "import scipy.optimize\n",
    "import numpy as np\n",
    "from scipy.optimize import minimize\n",
    "from sympy import *\n",
    "import math \n",
    "import sympy as sym\n",
    "from scipy import optimize,arange\n",
    "import matplotlib.pyplot as plt\n",
    "from sympy import symbols, Function\n",
    "import sympy as sm\n",
    "import pandas as pd\n",
    "x1,x2,x3,p1,p2,b,c,a,a1,b1,c1 = symbols('x1 x2 x3 p1 p2 b c a a1 b1 c1 ') \n",
    "F = eval(input(\"Введите функцию спроса F, например  (6*b+12)*x1+(5*b+22)*x2+c*x3:\"))\n",
    "a1 = int(input(\"a\"))\n",
    "b1 = int(input(\"b\"))\n",
    "c1 = int(input(\"c\"))\n",
    "p1 = int(input(\"p1\")) # запасы 3000\n",
    "p2 = int(input(\"p2\")) # запасы 3320\n",
    "F = F.subs([(a,a1),(b,b1),(c,c1)])\n",
    "print(\"Функция для максимизации:\",F)\n"
   ]
  },
  {
   "cell_type": "markdown",
   "metadata": {},
   "source": [
    "Построение модели задачи:"
   ]
  },
  {
   "cell_type": "code",
   "execution_count": 11,
   "metadata": {},
   "outputs": [
    {
     "name": "stdout",
     "output_type": "stream",
     "text": [
      "          x1  x2  x3   Запасы\n",
      "Maximize  24  32  19      NaN\n",
      "A          1   3   2  <=30000\n",
      "B          6   5   2   <=3320\n"
     ]
    }
   ],
   "source": [
    "data1 = [{'x1':24,'x2':32, 'x3':19},{'x1':1,'x2':3, 'x3':a1, 'Запасы':\"<=30000\"},{'x1':6,'x2':5, 'x3':2,'Запасы':\"<=3320\"}]\n",
    "df = pd.DataFrame(data1, index=['Maximize', 'A','B'])\n",
    "print(df)"
   ]
  },
  {
   "cell_type": "code",
   "execution_count": 14,
   "metadata": {},
   "outputs": [
    {
     "name": "stdout",
     "output_type": "stream",
     "text": [
      "x [  64.    0. 1468.]\n",
      "A_ub*x [3000.0, 3320.0]\n",
      "b_ub-A_ub*x [0. 0.]\n",
      "fun -29428.0\n",
      "slack [0. 0.]\n",
      "con []\n",
      "status 0\n",
      "message Optimization terminated successfully.\n",
      "nit 4\n",
      "success True\n"
     ]
    },
    {
     "name": "stderr",
     "output_type": "stream",
     "text": [
      "C:\\Users\\kjd20\\AppData\\Local\\Temp/ipykernel_8088/3149713682.py:16: DeprecationWarning: scipy.array is deprecated and will be removed in SciPy 2.0.0, use numpy.array instead\n",
      "  q1= scipy.array(b_ub)-scipy.array(q)\n"
     ]
    }
   ],
   "source": [
    "import scipy\n",
    "from scipy.optimize import linprog \n",
    "\n",
    "c = [-24,-32,-19] # список коэффициентов функции цели\n",
    "b_ub = [3000,3320] \n",
    "A_ub = [[1,3,a1],\n",
    "              [6,5,2]]\n",
    "d=linprog(c, A_ub, b_ub,method='simplex' ) \n",
    "#print(d)\n",
    "for key,val in d.items():\n",
    "         print(key,val) \n",
    "         if key=='x':\n",
    "                  q=[sum(i) for i in A_ub*val]\n",
    "                  print('A_ub*x',q) #использованные ресурсы\n",
    "                  q1= scipy.array(b_ub)-scipy.array(q) \n",
    "                  print('b_ub-A_ub*x', q1) #остатки ресурсов\n"
   ]
  },
  {
   "cell_type": "markdown",
   "metadata": {},
   "source": [
    "Найден оптимальный план по видам продукции: x [  64.    0. 1468.]\n",
    "\n",
    "Найдено фактическое иcпользование ресурсов: A_ub*x [3000.0, 3320.0]\n",
    "\n",
    "Остатки ресурсов при обеспечении максимальной прибыли:  slack [0. 0.]\n",
    "\n",
    "Дефицит (исчерпанность ресурсов)= b_ub-A_ub*x [0. 0.]\n",
    "\n",
    "Оптимальное значение целевой функции 29428.0\n",
    "\n",
    "С помощью двойственной задачи найду ценность данных ресурсов в отношении прибыли от реализации выпускаемой продукции. Двойственная задача является задачей  минимизации, а Коэффициенты функции цели в прямой задаче являются ограничениями в двойственной задаче."
   ]
  },
  {
   "cell_type": "markdown",
   "metadata": {},
   "source": [
    "Двойственная задача"
   ]
  },
  {
   "cell_type": "code",
   "execution_count": 13,
   "metadata": {},
   "outputs": [
    {
     "name": "stderr",
     "output_type": "stream",
     "text": [
      "C:\\Users\\kjd20\\AppData\\Local\\Temp/ipykernel_8088/3298817082.py:7: DeprecationWarning: scipy.transpose is deprecated and will be removed in SciPy 2.0.0, use numpy.transpose instead\n",
      "  A_ub_T =-scipy.transpose(A_ub)\n"
     ]
    },
    {
     "name": "stdout",
     "output_type": "stream",
     "text": [
      "     con: array([], dtype=float64)\n",
      "     fun: 29428.0\n",
      " message: 'Optimization terminated successfully.'\n",
      "     nit: 3\n",
      "   slack: array([0. , 2.3, 0. ])\n",
      "  status: 0\n",
      " success: True\n",
      "       x: array([6.6, 2.9])\n"
     ]
    }
   ],
   "source": [
    "import scipy\n",
    "from scipy.optimize import linprog\n",
    "A_ub =[[1,3,a1],\n",
    "              [6,5,2]] \n",
    "c=[3000,3320]\n",
    "b_ub = [-24,-32,-19]\n",
    "A_ub_T =-scipy.transpose(A_ub)\n",
    "d=linprog(c, A_ub_T, b_ub, method='simplex')\n",
    "print(d)\n"
   ]
  },
  {
   "cell_type": "markdown",
   "metadata": {},
   "source": [
    "Как можно видеть наибольшую ценность имеет 1 вид ресурсов, поэтому его надо закупать в первую очередью"
   ]
  }
 ],
 "metadata": {
  "interpreter": {
   "hash": "0463aa3621d62e00411223dcee194a447c8b08a2c8db7fec00e158f339f13f20"
  },
  "kernelspec": {
   "display_name": "Python 3.8.1 64-bit",
   "language": "python",
   "name": "python3"
  },
  "language_info": {
   "codemirror_mode": {
    "name": "ipython",
    "version": 3
   },
   "file_extension": ".py",
   "mimetype": "text/x-python",
   "name": "python",
   "nbconvert_exporter": "python",
   "pygments_lexer": "ipython3",
   "version": "3.8.1"
  },
  "orig_nbformat": 4
 },
 "nbformat": 4,
 "nbformat_minor": 2
}
