{
 "cells": [
  {
   "cell_type": "markdown",
   "metadata": {},
   "source": [
    "Кравченко Юлии ПИ19-4\n",
    "Вариант 12 \n",
    "\n",
    "Задание 7. Транспортная задача"
   ]
  },
  {
   "cell_type": "markdown",
   "metadata": {},
   "source": [
    "A1, A2, A3 – поставщики с запасами a1, a2, a3 однородного\n",
    "груза, B1, B2, B3, B4, B5 – потребители с потребностями b1, b2, b3, b4, b5. Матрица тарифов\n",
    "C = (cij ), где i = 1, 2, 3 и j = 1, 2, 3, 4, 5, содержит стоимости перевозки единицы груза\n",
    "из пункта Ai в пункт Bj\n",
    "."
   ]
  },
  {
   "cell_type": "code",
   "execution_count": 16,
   "metadata": {},
   "outputs": [],
   "source": [
    "# Загрузим необходимые библиотеки\n",
    "import numpy as np\n",
    "from scipy.optimize import linprog\n",
    "import warnings\n",
    "warnings.filterwarnings('ignore')\n",
    "          "
   ]
  },
  {
   "cell_type": "code",
   "execution_count": 17,
   "metadata": {},
   "outputs": [],
   "source": [
    "a = np.array([270, 390, 250]) # Запасы по складам\n",
    "b = np.array([160, 110, 210, 280, 150]) #Потребности\n",
    "# Матрица тарифов\n",
    "C = np.array([[12, 10, 6, 10, 4],\n",
    "              [13, 12, 5, 15, 7],\n",
    "              [8, 9, 15, 17, 26]])  "
   ]
  },
  {
   "cell_type": "markdown",
   "metadata": {},
   "source": [
    "Метод Северо-западного угла:"
   ]
  },
  {
   "cell_type": "code",
   "execution_count": 18,
   "metadata": {},
   "outputs": [],
   "source": [
    "def Transport_severo_zapad(a_, b_, c_):\n",
    "    a = np.copy(a_)\n",
    "    b = np.copy(b_)\n",
    "    c = np.copy(c_)\n",
    "    \n",
    "    # Проверяем условие замкнутости:\n",
    "    if a.sum() > b.sum():\n",
    "        b = np.hstack((b, [a.sum() - b.sum()]))\n",
    "        c = np.hstack((c, np.zeros(len(a)).reshape(-1, 1)))\n",
    "    elif a.sum() < b.sum():\n",
    "        a = np.hstack((a, [b.sum() - a.sum()]))\n",
    "        c = np.vstack((c, np.zeros(len(b))))\n",
    "        \n",
    "    m = len(a)\n",
    "    n = len(b)\n",
    "    i = 0\n",
    "    j = 0\n",
    "    funk = 0\n",
    "    x = np.zeros((m, n), dtype=int)\n",
    "    while (i<m) and (j<n): # повторяем цикл до сходимости метода\n",
    "        x_ij = min(a[i], b[j]) # проверяем минимальность a_i и b_j\n",
    "        funk += c[i, j]*min(a[i], b[j]) \n",
    "        a[i] -= x_ij \n",
    "        b[j] -= x_ij \n",
    "        x[i, j] = x_ij \n",
    "    \n",
    "        if a[i]>b[j]: # делаем сдвиги при выполнении условий\n",
    "            j += 1\n",
    "        elif a[i]<b[j]:\n",
    "            i += 1\n",
    "        else:\n",
    "            i += 1\n",
    "            j += 1\n",
    "    return x, funk "
   ]
  },
  {
   "cell_type": "code",
   "execution_count": 19,
   "metadata": {},
   "outputs": [
    {
     "name": "stdout",
     "output_type": "stream",
     "text": [
      "Метод северо-западного угла: \n",
      " [[160 110   0   0   0]\n",
      " [  0   0 210 180   0]\n",
      " [  0   0   0 100 150]]\n",
      "Оптимальная стоимость перевозки:  12370\n"
     ]
    }
   ],
   "source": [
    "x1, funk1 = Transport_severo_zapad(a, b, C)\n",
    "print('Метод северо-западного угла: \\n', x1)\n",
    "print('Оптимальная стоимость перевозки: ', funk1)\n"
   ]
  }
 ],
 "metadata": {
  "interpreter": {
   "hash": "9c158bb506f92e1da2edfda4af9f42b36a719ecd456705cdc99a3e077e102aee"
  },
  "kernelspec": {
   "display_name": "Python 3.9.7 ('base')",
   "language": "python",
   "name": "python3"
  },
  "language_info": {
   "codemirror_mode": {
    "name": "ipython",
    "version": 3
   },
   "file_extension": ".py",
   "mimetype": "text/x-python",
   "name": "python",
   "nbconvert_exporter": "python",
   "pygments_lexer": "ipython3",
   "version": "3.9.7"
  },
  "orig_nbformat": 4
 },
 "nbformat": 4,
 "nbformat_minor": 2
}
