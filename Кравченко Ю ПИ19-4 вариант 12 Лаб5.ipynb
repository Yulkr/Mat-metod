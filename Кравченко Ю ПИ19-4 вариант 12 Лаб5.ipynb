{
 "cells": [
  {
   "cell_type": "markdown",
   "metadata": {},
   "source": [
    "Кравченко Юлии ПИ19-4\n",
    "Вариант 12 \n",
    "\n",
    "Задание 5. Линейное программирование. Графический метод "
   ]
  },
  {
   "cell_type": "markdown",
   "metadata": {},
   "source": [
    "Данные для подстановки:\n",
    "\n",
    "a=3\n",
    "\n",
    "b=13/2\n",
    "\n",
    "c=2\n",
    "\n",
    "F(x,y)=x+a*y -> max\n",
    "\n",
    "D:   \n",
    "\n",
    "x+2*y<=10\n",
    "\n",
    "3*x+2*y<=18\n",
    "\n",
    "x-y>=-b\n",
    "\n",
    "c*x-y<=8*c+3\n",
    "\n"
   ]
  },
  {
   "cell_type": "code",
   "execution_count": 87,
   "metadata": {},
   "outputs": [
    {
     "name": "stdout",
     "output_type": "stream",
     "text": [
      "     con: array([], dtype=float64)\n",
      "     fun: 15.0\n",
      " message: 'The problem appears infeasible, as the phase one auxiliary problem terminated successfully with a residual of 1.5e+00, greater than the tolerance 1e-12 required for the solution to be considered feasible. Consider increasing the tolerance to be greater than 1.5e+00. If this tolerance is unnaceptably large, the problem is likely infeasible.'\n",
      "     nit: 1\n",
      "   slack: array([ 0. ,  8. , -1.5, 24. ])\n",
      "  status: 2\n",
      " success: False\n",
      "       x: array([0., 5.])\n"
     ]
    }
   ],
   "source": [
    "import scipy\n",
    "from scipy.optimize import linprog \n",
    "import numpy as np\n",
    "import matplotlib.pyplot as plt\n",
    "a=int(3)\n",
    "b=float(13/2)\n",
    "c=int(2)\n",
    "D = int(8*c+3)\n",
    "\n",
    "cc = [1,a] # список коэффициентов функции цели\n",
    "b_ubb = [10,18,-b,D] \n",
    "A_ubb = [[1, 2], \n",
    "        [3, 2],\n",
    "         [1, -1], \n",
    "         [c, -1]]\n",
    "\n",
    "\n",
    "d=linprog(c=cc, A_ub=A_ubb, b_ub=b_ubb, method='revised simplex' ) \n",
    "print(d)"
   ]
  },
  {
   "cell_type": "markdown",
   "metadata": {},
   "source": [
    "Графическое решение"
   ]
  },
  {
   "cell_type": "code",
   "execution_count": 121,
   "metadata": {},
   "outputs": [
    {
     "data": {
      "image/png": "[encoded data removed]",
      "text/plain": [
       "<Figure size 432x288 with 1 Axes>"
      ]
     },
     "metadata": {
      "needs_background": "light"
     },
     "output_type": "display_data"
    }
   ],
   "source": [
    "d = np.linspace(-20,20,300)\n",
    "x,y = np.meshgrid(d,d)\n",
    "\n",
    "plt.imshow( ((2*y<=10-x) & (2*y<=18-3*x) & (-y>=-b-x)& (c*x<=D+y)).astype(int) ,extent=(x.min(),x.max(),y.min(),y.max()),origin=\"lower\", cmap='cividis', alpha = 0.3)\n",
    "\n",
    "x = np.linspace(-20, 20, 2000)\n",
    "\n",
    "y1 = (10-x)/2\n",
    "y2 = (18-3*x)/2\n",
    "y3 = x+b\n",
    "y4 = c*x-8*c-3\n",
    "\n",
    "# Для линий A B C L\n",
    "plt.plot(x, y1, label=r'A',color='red')\n",
    "plt.plot(x, y2, label=r'B',color='green')\n",
    "plt.plot(x, y3, label=r'C',color='purple')\n",
    "plt.plot(x, y4, label=r'D',color='blue')\n",
    "plt.text(-20,13,'A', color='red')\n",
    "plt.text(6,13,'C', color='purple')\n",
    "plt.text(15,13,'D', color='blue')\n",
    "plt.text(-5,13,'B', color='green')\n",
    "\n",
    "plt.xlim(-20,20)\n",
    "plt.ylim(-10,15)\n",
    "#Для точки\n",
    "plt.text(0,5,'М*(0,5)', color='red')\n",
    "plt.scatter(-1,5, color='red')\n",
    "\n",
    "plt.plot(x, 5-x*0.2, color='grey', label=r'F=5')\n",
    "plt.plot(x, 1-x*0.2, color='orange',label=r'F=1')\n",
    "\n",
    "plt.legend()\n",
    "plt.xlabel(r'x')\n",
    "plt.ylabel(r'y')\n",
    "\n",
    "plt.show()"
   ]
  }
 ],
 "metadata": {
  "interpreter": {
   "hash": "0463aa3621d62e00411223dcee194a447c8b08a2c8db7fec00e158f339f13f20"
  },
  "kernelspec": {
   "display_name": "Python 3.8.1 64-bit",
   "language": "python",
   "name": "python3"
  },
  "language_info": {
   "codemirror_mode": {
    "name": "ipython",
    "version": 3
   },
   "file_extension": ".py",
   "mimetype": "text/x-python",
   "name": "python",
   "nbconvert_exporter": "python",
   "pygments_lexer": "ipython3",
   "version": "3.8.1"
  },
  "orig_nbformat": 4
 },
 "nbformat": 4,
 "nbformat_minor": 2
}
